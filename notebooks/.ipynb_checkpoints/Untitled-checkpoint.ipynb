{
 "cells": [
  {
   "cell_type": "code",
   "execution_count": 81,
   "metadata": {},
   "outputs": [],
   "source": [
    "import cv2 as cv\n",
    "import torch\n",
    "import xml.etree.ElementTree as ET  \n",
    "from collections import namedtuple\n",
    "from os import listdir\n",
    "from os.path import isfile, join"
   ]
  },
  {
   "cell_type": "code",
   "execution_count": 89,
   "metadata": {},
   "outputs": [],
   "source": [
    "'''Function that parses the staff xml and stores it in a named tuple'''\n",
    "Staff = namedtuple('Staff', 'filename height space column row rot model staffs')\n",
    "def staff_xml(filename):\n",
    "    tree = ET.parse(filename)\n",
    "    root = tree.getroot()\n",
    "    fn = root[0].text\n",
    "    height = int(root[1][0].text)\n",
    "    space = int(root[1][1].text)\n",
    "    column = int(root[1][2].text)\n",
    "    row = int(root[1][3].text)\n",
    "    rot = float(root[1][4].text)\n",
    "    model = [float(gradient) for gradient in str.split(root[1][5].text)]\n",
    "    staffs = [staff.text for staff in root[2]]\n",
    "\n",
    "    return Staff(fn, height, space, column, row, rot, model, staffs)\n",
    "\n",
    "artificial_fn = '../datasets/Artificial/'\n",
    "artificial_files = [f for f in listdir(artificial_fn) if isfile(join(artificial_fn, f))]\n",
    "\n",
    "handwritten_fn = '../datasets/Handwritten/'\n",
    "handwritten_files = [f for f in listdir(handwritten_fn) if isfile(join(handwritten_fn, f))]\n",
    "\n",
    "artificial_staffs = [staff_xml(artificial_fn + f) for f in artificial_files]\n",
    "handwritten_staffs = [staff_xml(handwritten_fn + f) for f in muscima_files]"
   ]
  },
  {
   "cell_type": "code",
   "execution_count": 90,
   "metadata": {},
   "outputs": [],
   "source": [
    "# Parsing both datasets' groundtruths\n",
    "deepscores_fn = '../../data/DEEPSCORES/images_png/'\n",
    "deepscores_gt_fn = '../../data/DEEPSCORES/xml_annotations/'\n",
    "muscima_fn = '../../data/MUSCIMA/CvcMuscima-Distortions/'\n",
    "muscima_gt_fn = '../../data/MUSCIMA/v1.0/data/cropobjects_manual/'\n",
    "\n",
    "def deepscores_gt(fn=deepscores_gt_fn):\n",
    "    return\n",
    "\n",
    "def muscima_gt(fn=muscima_gt_fn):\n",
    "    return"
   ]
  },
  {
   "cell_type": "code",
   "execution_count": 95,
   "metadata": {},
   "outputs": [],
   "source": [
    "img = cv.imread(deepscores_fn + artificial_staffs[0].filename, cv.CV_8UC1)"
   ]
  }
 ],
 "metadata": {
  "kernelspec": {
   "display_name": "Python [conda env:env]",
   "language": "python",
   "name": "conda-env-env-py"
  },
  "language_info": {
   "codemirror_mode": {
    "name": "ipython",
    "version": 3
   },
   "file_extension": ".py",
   "mimetype": "text/x-python",
   "name": "python",
   "nbconvert_exporter": "python",
   "pygments_lexer": "ipython3",
   "version": "3.6.6"
  }
 },
 "nbformat": 4,
 "nbformat_minor": 2
}
